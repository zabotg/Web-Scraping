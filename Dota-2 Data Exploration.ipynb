{
 "cells": [
  {
   "cell_type": "code",
   "execution_count": 1,
   "metadata": {
    "ExecuteTime": {
     "end_time": "2019-03-19T18:24:57.616893Z",
     "start_time": "2019-03-19T18:24:56.957441Z"
    }
   },
   "outputs": [],
   "source": [
    "#Importing Libraries for data analysis\n",
    "\n",
    "# Call data manipulation libraries\n",
    "import pandas as pd\n",
    "import numpy as np\n",
    "\n",
    "# Plotting libraries to plot feature importance\n",
    "import matplotlib.pyplot as plt\n",
    "import seaborn as sns\n",
    "\n",
    "# Misc\n",
    "import os, time, warnings\n",
    "\n",
    "# Execution of HTTP requests librarie\n",
    "import requests\n",
    "\n",
    "# extracting data in HTML and XML files librarie\n",
    "from bs4 import BeautifulSoup"
   ]
  },
  {
   "cell_type": "code",
   "execution_count": 2,
   "metadata": {
    "ExecuteTime": {
     "end_time": "2019-03-19T18:24:57.621710Z",
     "start_time": "2019-03-19T18:24:57.618862Z"
    }
   },
   "outputs": [],
   "source": [
    "text_file = open('./heroes.txt', 'r')\n",
    "heroes_names = text_file.read().split(';')\n",
    "\n",
    "heroes = [x.lower().replace(' ', '-').replace(\"'\", '') for x in heroes_names]"
   ]
  },
  {
   "cell_type": "code",
   "execution_count": 3,
   "metadata": {
    "ExecuteTime": {
     "end_time": "2019-03-19T18:26:35.103746Z",
     "start_time": "2019-03-19T18:24:57.624031Z"
    }
   },
   "outputs": [],
   "source": [
    "# Method to extract pages at once in Dota site\n",
    "\n",
    "def scrape_stats(base_url, heroes_url):\n",
    "\n",
    "    dict_heroes = {}\n",
    "    \n",
    "    headers = {'User-Agent': 'Mozilla/5.0 (X11; Ubuntu; Linux x86_64; rv:52.0) Gecko/20100101 Firefox/52.0'}\n",
    "\n",
    "    for hero in heroes_url:\n",
    "#         print('Extracting hero: {}'.format(hero))\n",
    "        req_url = base_url.format(hero)\n",
    "        req = requests.get(req_url, headers=headers)\n",
    "        soup = BeautifulSoup(req.text, 'lxml')\n",
    "        \n",
    "        table = soup.find_all('table')\n",
    "        df = pd.read_html(str(table))[3]\n",
    "        df = pd.DataFrame(df.values[:,1:], columns=['hero', 'disadvantage', 'winrate', 'matches'])\n",
    "       \n",
    "        df.matches = df.matches.astype(int)\n",
    "        df.disadvantage = df.disadvantage.str[:-1].astype(float)\n",
    "        df.winrate = df.winrate.str[:-1].astype(float)\n",
    "\n",
    "        dict_heroes[hero] = df\n",
    "    return dict_heroes\n",
    "\n",
    "# Request datas in HTML pages:\n",
    "url = 'https://www.dotabuff.com/heroes/{}/counters'\n",
    "dict_heroes = scrape_stats(url, heroes)"
   ]
  },
  {
   "cell_type": "code",
   "execution_count": 4,
   "metadata": {
    "ExecuteTime": {
     "end_time": "2019-03-19T18:26:35.123053Z",
     "start_time": "2019-03-19T18:26:35.105508Z"
    }
   },
   "outputs": [
    {
     "data": {
      "text/html": [
       "<div>\n",
       "<style scoped>\n",
       "    .dataframe tbody tr th:only-of-type {\n",
       "        vertical-align: middle;\n",
       "    }\n",
       "\n",
       "    .dataframe tbody tr th {\n",
       "        vertical-align: top;\n",
       "    }\n",
       "\n",
       "    .dataframe thead th {\n",
       "        text-align: right;\n",
       "    }\n",
       "</style>\n",
       "<table border=\"1\" class=\"dataframe\">\n",
       "  <thead>\n",
       "    <tr style=\"text-align: right;\">\n",
       "      <th></th>\n",
       "      <th>disadvantage</th>\n",
       "      <th>winrate</th>\n",
       "      <th>matches</th>\n",
       "    </tr>\n",
       "    <tr>\n",
       "      <th>hero</th>\n",
       "      <th></th>\n",
       "      <th></th>\n",
       "      <th></th>\n",
       "    </tr>\n",
       "  </thead>\n",
       "  <tbody>\n",
       "    <tr>\n",
       "      <th>Meepo</th>\n",
       "      <td>10.41</td>\n",
       "      <td>227.69</td>\n",
       "      <td>194769</td>\n",
       "    </tr>\n",
       "    <tr>\n",
       "      <th>Huskar</th>\n",
       "      <td>10.01</td>\n",
       "      <td>253.08</td>\n",
       "      <td>332663</td>\n",
       "    </tr>\n",
       "    <tr>\n",
       "      <th>Outworld Devourer</th>\n",
       "      <td>9.05</td>\n",
       "      <td>290.40</td>\n",
       "      <td>168598</td>\n",
       "    </tr>\n",
       "    <tr>\n",
       "      <th>Legion Commander</th>\n",
       "      <td>8.86</td>\n",
       "      <td>241.33</td>\n",
       "      <td>997379</td>\n",
       "    </tr>\n",
       "    <tr>\n",
       "      <th>Puck</th>\n",
       "      <td>7.95</td>\n",
       "      <td>279.74</td>\n",
       "      <td>174881</td>\n",
       "    </tr>\n",
       "    <tr>\n",
       "      <th>Drow Ranger</th>\n",
       "      <td>7.69</td>\n",
       "      <td>248.25</td>\n",
       "      <td>896478</td>\n",
       "    </tr>\n",
       "    <tr>\n",
       "      <th>Faceless Void</th>\n",
       "      <td>7.63</td>\n",
       "      <td>250.39</td>\n",
       "      <td>841691</td>\n",
       "    </tr>\n",
       "    <tr>\n",
       "      <th>Axe</th>\n",
       "      <td>7.15</td>\n",
       "      <td>249.73</td>\n",
       "      <td>711902</td>\n",
       "    </tr>\n",
       "    <tr>\n",
       "      <th>Techies</th>\n",
       "      <td>6.04</td>\n",
       "      <td>252.62</td>\n",
       "      <td>442478</td>\n",
       "    </tr>\n",
       "    <tr>\n",
       "      <th>Chen</th>\n",
       "      <td>5.14</td>\n",
       "      <td>270.06</td>\n",
       "      <td>47521</td>\n",
       "    </tr>\n",
       "  </tbody>\n",
       "</table>\n",
       "</div>"
      ],
      "text/plain": [
       "                   disadvantage  winrate  matches\n",
       "hero                                             \n",
       "Meepo                     10.41   227.69   194769\n",
       "Huskar                    10.01   253.08   332663\n",
       "Outworld Devourer          9.05   290.40   168598\n",
       "Legion Commander           8.86   241.33   997379\n",
       "Puck                       7.95   279.74   174881\n",
       "Drow Ranger                7.69   248.25   896478\n",
       "Faceless Void              7.63   250.39   841691\n",
       "Axe                        7.15   249.73   711902\n",
       "Techies                    6.04   252.62   442478\n",
       "Chen                       5.14   270.06    47521"
      ]
     },
     "execution_count": 4,
     "metadata": {},
     "output_type": "execute_result"
    }
   ],
   "source": [
    "#Verify Drow Ranger\n",
    "\n",
    "df1 = dict_heroes['ember-spirit']\n",
    "df2 = dict_heroes['juggernaut']\n",
    "df3 = dict_heroes['anti-mage']\n",
    "df4 = dict_heroes['weaver']\n",
    "df5 = dict_heroes['mirana']\n",
    "\n",
    "result = pd.concat([df1,df2, df3, df4, df5]).groupby('hero').sum()\n",
    "result.sort_values(by=['disadvantage'], ascending=False, inplace=True)\n",
    "result.head(10)\n",
    "\n",
    "plt.plot(x=resul, y=disad)"
   ]
  },
  {
   "cell_type": "code",
   "execution_count": null,
   "metadata": {},
   "outputs": [],
   "source": []
  }
 ],
 "metadata": {
  "hide_input": false,
  "kernelspec": {
   "display_name": "Python 3",
   "language": "python",
   "name": "python3"
  },
  "language_info": {
   "codemirror_mode": {
    "name": "ipython",
    "version": 3
   },
   "file_extension": ".py",
   "mimetype": "text/x-python",
   "name": "python",
   "nbconvert_exporter": "python",
   "pygments_lexer": "ipython3",
   "version": "3.6.8"
  },
  "varInspector": {
   "cols": {
    "lenName": 16,
    "lenType": 16,
    "lenVar": 40
   },
   "kernels_config": {
    "python": {
     "delete_cmd_postfix": "",
     "delete_cmd_prefix": "del ",
     "library": "var_list.py",
     "varRefreshCmd": "print(var_dic_list())"
    },
    "r": {
     "delete_cmd_postfix": ") ",
     "delete_cmd_prefix": "rm(",
     "library": "var_list.r",
     "varRefreshCmd": "cat(var_dic_list()) "
    }
   },
   "types_to_exclude": [
    "module",
    "function",
    "builtin_function_or_method",
    "instance",
    "_Feature"
   ],
   "window_display": false
  }
 },
 "nbformat": 4,
 "nbformat_minor": 2
}
