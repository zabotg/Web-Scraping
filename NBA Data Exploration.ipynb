{
 "cells": [
  {
   "cell_type": "code",
   "execution_count": 1,
   "metadata": {
    "ExecuteTime": {
     "end_time": "2019-03-14T02:32:20.822365Z",
     "start_time": "2019-03-14T02:32:19.154488Z"
    }
   },
   "outputs": [],
   "source": [
    "#Importing Libraries for data analysis\n",
    "\n",
    "# Call data manipulation libraries\n",
    "import pandas as pd\n",
    "import numpy as np\n",
    "\n",
    "# Plotting libraries to plot feature importance\n",
    "import matplotlib.pyplot as plt\n",
    "import seaborn as sns\n",
    "\n",
    "# Misc\n",
    "import os, time, warnings\n",
    "\n",
    "# Execution of HTTP requests librarie\n",
    "import requests\n",
    "\n",
    "# extracting data in HTML and XML files librarie\n",
    "from bs4 import BeautifulSoup"
   ]
  },
  {
   "cell_type": "code",
   "execution_count": 1,
   "metadata": {
    "ExecuteTime": {
     "end_time": "2019-03-19T02:33:42.121845Z",
     "start_time": "2019-03-19T02:33:42.024106Z"
    }
   },
   "outputs": [
    {
     "ename": "NameError",
     "evalue": "name 'pd' is not defined",
     "output_type": "error",
     "traceback": [
      "\u001b[1;31m---------------------------------------------------------------------------\u001b[0m",
      "\u001b[1;31mNameError\u001b[0m                                 Traceback (most recent call last)",
      "\u001b[1;32m<ipython-input-1-6a93fb5299e4>\u001b[0m in \u001b[0;36m<module>\u001b[1;34m()\u001b[0m\n\u001b[0;32m     18\u001b[0m \u001b[1;31m# Request datas in HTML pages:\u001b[0m\u001b[1;33m\u001b[0m\u001b[1;33m\u001b[0m\u001b[0m\n\u001b[0;32m     19\u001b[0m \u001b[0murl\u001b[0m \u001b[1;33m=\u001b[0m \u001b[1;34m'https://www.basketball-reference.com/leagues/NBA_{}_totals.html'\u001b[0m\u001b[1;33m\u001b[0m\u001b[0m\n\u001b[1;32m---> 20\u001b[1;33m \u001b[0mdf\u001b[0m \u001b[1;33m=\u001b[0m \u001b[0mscrape_stats\u001b[0m\u001b[1;33m(\u001b[0m\u001b[0murl\u001b[0m\u001b[1;33m,\u001b[0m \u001b[1;36m2013\u001b[0m\u001b[1;33m,\u001b[0m \u001b[1;36m2018\u001b[0m\u001b[1;33m)\u001b[0m\u001b[1;33m\u001b[0m\u001b[0m\n\u001b[0m\u001b[0;32m     21\u001b[0m \u001b[1;33m\u001b[0m\u001b[0m\n\u001b[0;32m     22\u001b[0m \u001b[1;31m# Clean and Transform dataframe\u001b[0m\u001b[1;33m\u001b[0m\u001b[1;33m\u001b[0m\u001b[0m\n",
      "\u001b[1;32m<ipython-input-1-6a93fb5299e4>\u001b[0m in \u001b[0;36mscrape_stats\u001b[1;34m(base_url, year_start, year_end)\u001b[0m\n\u001b[0;32m      3\u001b[0m     \u001b[0myears\u001b[0m \u001b[1;33m=\u001b[0m \u001b[0mrange\u001b[0m\u001b[1;33m(\u001b[0m\u001b[0myear_start\u001b[0m\u001b[1;33m,\u001b[0m\u001b[0myear_end\u001b[0m\u001b[1;33m+\u001b[0m\u001b[1;36m1\u001b[0m\u001b[1;33m)\u001b[0m\u001b[1;33m\u001b[0m\u001b[0m\n\u001b[0;32m      4\u001b[0m \u001b[1;33m\u001b[0m\u001b[0m\n\u001b[1;32m----> 5\u001b[1;33m     \u001b[0mfinal_df\u001b[0m \u001b[1;33m=\u001b[0m \u001b[0mpd\u001b[0m\u001b[1;33m.\u001b[0m\u001b[0mDataFrame\u001b[0m\u001b[1;33m(\u001b[0m\u001b[1;33m)\u001b[0m\u001b[1;33m\u001b[0m\u001b[0m\n\u001b[0m\u001b[0;32m      6\u001b[0m \u001b[1;33m\u001b[0m\u001b[0m\n\u001b[0;32m      7\u001b[0m     \u001b[1;32mfor\u001b[0m \u001b[0myear\u001b[0m \u001b[1;32min\u001b[0m \u001b[0myears\u001b[0m\u001b[1;33m:\u001b[0m\u001b[1;33m\u001b[0m\u001b[0m\n",
      "\u001b[1;31mNameError\u001b[0m: name 'pd' is not defined"
     ]
    }
   ],
   "source": [
    "# Method to extract pages at once in NBA site\n",
    "def scrape_stats(base_url, year_start, year_end):\n",
    "    years = range(year_start,year_end+1)\n",
    "\n",
    "    final_df = pd.DataFrame()\n",
    "\n",
    "    for year in years:\n",
    "        print('Extracting year {}'.format(year))\n",
    "        req_url = base_url.format(year)\n",
    "        req = requests.get(req_url)\n",
    "        soup = BeautifulSoup(req.content, 'html.parser')\n",
    "        table = soup.find('table', {'id':'totals_stats'})\n",
    "        df = pd.read_html(str(table))[0]\n",
    "        df['Year'] = year\n",
    "        final_df = final_df.append(df)\n",
    "    return final_df\n",
    "\n",
    "# Request datas in HTML pages:\n",
    "url = 'https://www.basketball-reference.com/leagues/NBA_{}_totals.html'\n",
    "df = scrape_stats(url, 2013, 2018)\n",
    "\n",
    "# Clean and Transform dataframe \n",
    "drop_indexes = df[df['Rk'] == 'Rk'].index # Get indexes where the 'Rk' column has a value of 'Rk'\n",
    "df.drop(drop_indexes, inplace=True) # Delete the values of the indexes passed from the table\n",
    "\n",
    "# Converting tables to numeric values\n",
    "numeric_cols = df.columns.drop(['Player','Pos','Tm'])\n",
    "df[numeric_cols] = df[numeric_cols].apply(pd.to_numeric)"
   ]
  },
  {
   "cell_type": "code",
   "execution_count": 3,
   "metadata": {
    "ExecuteTime": {
     "end_time": "2019-03-14T02:32:51.980086Z",
     "start_time": "2019-03-14T02:32:51.942314Z"
    }
   },
   "outputs": [
    {
     "data": {
      "text/html": [
       "<div>\n",
       "<style scoped>\n",
       "    .dataframe tbody tr th:only-of-type {\n",
       "        vertical-align: middle;\n",
       "    }\n",
       "\n",
       "    .dataframe tbody tr th {\n",
       "        vertical-align: top;\n",
       "    }\n",
       "\n",
       "    .dataframe thead th {\n",
       "        text-align: right;\n",
       "    }\n",
       "</style>\n",
       "<table border=\"1\" class=\"dataframe\">\n",
       "  <thead>\n",
       "    <tr style=\"text-align: right;\">\n",
       "      <th></th>\n",
       "      <th>Rk</th>\n",
       "      <th>Player</th>\n",
       "      <th>Pos</th>\n",
       "      <th>Age</th>\n",
       "      <th>Tm</th>\n",
       "      <th>G</th>\n",
       "      <th>GS</th>\n",
       "      <th>MP</th>\n",
       "      <th>FG</th>\n",
       "      <th>FGA</th>\n",
       "      <th>...</th>\n",
       "      <th>ORB</th>\n",
       "      <th>DRB</th>\n",
       "      <th>TRB</th>\n",
       "      <th>AST</th>\n",
       "      <th>STL</th>\n",
       "      <th>BLK</th>\n",
       "      <th>TOV</th>\n",
       "      <th>PF</th>\n",
       "      <th>PTS</th>\n",
       "      <th>Year</th>\n",
       "    </tr>\n",
       "  </thead>\n",
       "  <tbody>\n",
       "    <tr>\n",
       "      <th>0</th>\n",
       "      <td>1</td>\n",
       "      <td>Quincy Acy</td>\n",
       "      <td>PF</td>\n",
       "      <td>22</td>\n",
       "      <td>TOR</td>\n",
       "      <td>29</td>\n",
       "      <td>0</td>\n",
       "      <td>342</td>\n",
       "      <td>42</td>\n",
       "      <td>75</td>\n",
       "      <td>...</td>\n",
       "      <td>30</td>\n",
       "      <td>47</td>\n",
       "      <td>77</td>\n",
       "      <td>11</td>\n",
       "      <td>13</td>\n",
       "      <td>15</td>\n",
       "      <td>17</td>\n",
       "      <td>53</td>\n",
       "      <td>116</td>\n",
       "      <td>2013</td>\n",
       "    </tr>\n",
       "    <tr>\n",
       "      <th>1</th>\n",
       "      <td>2</td>\n",
       "      <td>Jeff Adrien</td>\n",
       "      <td>PF</td>\n",
       "      <td>26</td>\n",
       "      <td>CHA</td>\n",
       "      <td>52</td>\n",
       "      <td>5</td>\n",
       "      <td>713</td>\n",
       "      <td>72</td>\n",
       "      <td>168</td>\n",
       "      <td>...</td>\n",
       "      <td>68</td>\n",
       "      <td>128</td>\n",
       "      <td>196</td>\n",
       "      <td>36</td>\n",
       "      <td>18</td>\n",
       "      <td>27</td>\n",
       "      <td>32</td>\n",
       "      <td>80</td>\n",
       "      <td>209</td>\n",
       "      <td>2013</td>\n",
       "    </tr>\n",
       "    <tr>\n",
       "      <th>2</th>\n",
       "      <td>3</td>\n",
       "      <td>Arron Afflalo</td>\n",
       "      <td>SF</td>\n",
       "      <td>27</td>\n",
       "      <td>ORL</td>\n",
       "      <td>64</td>\n",
       "      <td>64</td>\n",
       "      <td>2307</td>\n",
       "      <td>397</td>\n",
       "      <td>905</td>\n",
       "      <td>...</td>\n",
       "      <td>29</td>\n",
       "      <td>210</td>\n",
       "      <td>239</td>\n",
       "      <td>206</td>\n",
       "      <td>40</td>\n",
       "      <td>11</td>\n",
       "      <td>138</td>\n",
       "      <td>137</td>\n",
       "      <td>1057</td>\n",
       "      <td>2013</td>\n",
       "    </tr>\n",
       "    <tr>\n",
       "      <th>3</th>\n",
       "      <td>4</td>\n",
       "      <td>Josh Akognon</td>\n",
       "      <td>PG</td>\n",
       "      <td>26</td>\n",
       "      <td>DAL</td>\n",
       "      <td>3</td>\n",
       "      <td>0</td>\n",
       "      <td>9</td>\n",
       "      <td>2</td>\n",
       "      <td>4</td>\n",
       "      <td>...</td>\n",
       "      <td>0</td>\n",
       "      <td>1</td>\n",
       "      <td>1</td>\n",
       "      <td>1</td>\n",
       "      <td>0</td>\n",
       "      <td>0</td>\n",
       "      <td>0</td>\n",
       "      <td>3</td>\n",
       "      <td>5</td>\n",
       "      <td>2013</td>\n",
       "    </tr>\n",
       "    <tr>\n",
       "      <th>4</th>\n",
       "      <td>5</td>\n",
       "      <td>Cole Aldrich</td>\n",
       "      <td>C</td>\n",
       "      <td>24</td>\n",
       "      <td>TOT</td>\n",
       "      <td>45</td>\n",
       "      <td>0</td>\n",
       "      <td>388</td>\n",
       "      <td>44</td>\n",
       "      <td>80</td>\n",
       "      <td>...</td>\n",
       "      <td>30</td>\n",
       "      <td>90</td>\n",
       "      <td>120</td>\n",
       "      <td>9</td>\n",
       "      <td>5</td>\n",
       "      <td>23</td>\n",
       "      <td>23</td>\n",
       "      <td>60</td>\n",
       "      <td>100</td>\n",
       "      <td>2013</td>\n",
       "    </tr>\n",
       "  </tbody>\n",
       "</table>\n",
       "<p>5 rows × 31 columns</p>\n",
       "</div>"
      ],
      "text/plain": [
       "   Rk         Player Pos  Age   Tm   G  GS    MP   FG  FGA  ...   ORB  DRB  \\\n",
       "0   1     Quincy Acy  PF   22  TOR  29   0   342   42   75  ...    30   47   \n",
       "1   2    Jeff Adrien  PF   26  CHA  52   5   713   72  168  ...    68  128   \n",
       "2   3  Arron Afflalo  SF   27  ORL  64  64  2307  397  905  ...    29  210   \n",
       "3   4   Josh Akognon  PG   26  DAL   3   0     9    2    4  ...     0    1   \n",
       "4   5   Cole Aldrich   C   24  TOT  45   0   388   44   80  ...    30   90   \n",
       "\n",
       "   TRB  AST  STL  BLK  TOV   PF   PTS  Year  \n",
       "0   77   11   13   15   17   53   116  2013  \n",
       "1  196   36   18   27   32   80   209  2013  \n",
       "2  239  206   40   11  138  137  1057  2013  \n",
       "3    1    1    0    0    0    3     5  2013  \n",
       "4  120    9    5   23   23   60   100  2013  \n",
       "\n",
       "[5 rows x 31 columns]"
      ]
     },
     "execution_count": 3,
     "metadata": {},
     "output_type": "execute_result"
    }
   ],
   "source": [
    "df.head() # Data preview 5 rows"
   ]
  },
  {
   "cell_type": "code",
   "execution_count": 11,
   "metadata": {
    "ExecuteTime": {
     "end_time": "2019-03-14T02:41:05.685441Z",
     "start_time": "2019-03-14T02:41:05.065103Z"
    }
   },
   "outputs": [
    {
     "name": "stderr",
     "output_type": "stream",
     "text": [
      "C:\\Users\\guilh\\Anaconda3\\lib\\site-packages\\scipy\\stats\\stats.py:1713: FutureWarning: Using a non-tuple sequence for multidimensional indexing is deprecated; use `arr[tuple(seq)]` instead of `arr[seq]`. In the future this will be interpreted as an array index, `arr[np.array(seq)]`, which will result either in an error or a different result.\n",
      "  return np.add.reduce(sorted[indexer] * weights, axis=axis) / sumval\n"
     ]
    },
    {
     "data": {
      "image/png": "[encoded data removed]",
      "text/plain": [
       "<Figure size 432x288 with 1 Axes>"
      ]
     },
     "metadata": {
      "needs_background": "light"
     },
     "output_type": "display_data"
    },
    {
     "data": {
      "text/plain": [
       "<matplotlib.axes._subplots.AxesSubplot at 0x1f56877d978>"
      ]
     },
     "execution_count": 11,
     "metadata": {},
     "output_type": "execute_result"
    },
    {
     "data": {
      "image/png": "[encoded data removed]",
      "text/plain": [
       "<Figure size 432x288 with 1 Axes>"
      ]
     },
     "metadata": {
      "needs_background": "light"
     },
     "output_type": "display_data"
    }
   ],
   "source": [
    "# Average chart of 3-point throws per year\n",
    "sns.barplot(x=df['Year'], y=df['3PA'])\n",
    "plt.ylabel('3-point Throws')\n",
    "plt.show()\n",
    "\n",
    "# ----------\n",
    "\n",
    "# Sort Data Frame by 3 point ball converted in descending order\n",
    "sorted_df = df.sort_values(by=['3P'], axis=0, ascending=False)\n",
    "\n",
    "# Show the first five player\n",
    "sorted_df[['Player', '3P', 'Year']].head()\n",
    "\n",
    "# Grouping the data per player and adding the values\n",
    "grouped_df = df.groupby('Player', as_index=False).sum()\n",
    "\n",
    "# Sort Data Frame by 3-point converted balls in descending order\n",
    "sorted_df = df.sort_values(by=['3P'], axis=0, ascending=False)\n",
    "\n",
    "# Shows 5 first positions of the table\n",
    "a = sorted_df[['Player', '3P', '3PA']].head()\n",
    "sns.barplot(x=a['Player'], y=a['3PA'])"
   ]
  },
  {
   "cell_type": "code",
   "execution_count": 1,
   "metadata": {
    "ExecuteTime": {
     "end_time": "2019-03-16T14:55:24.152465Z",
     "start_time": "2019-03-16T14:55:24.137504Z"
    }
   },
   "outputs": [],
   "source": []
  }
 ],
 "metadata": {
  "hide_input": false,
  "kernelspec": {
   "display_name": "Python 3",
   "language": "python",
   "name": "python3"
  },
  "language_info": {
   "codemirror_mode": {
    "name": "ipython",
    "version": 3
   },
   "file_extension": ".py",
   "mimetype": "text/x-python",
   "name": "python",
   "nbconvert_exporter": "python",
   "pygments_lexer": "ipython3",
   "version": "3.7.0"
  }
 },
 "nbformat": 4,
 "nbformat_minor": 2
}
